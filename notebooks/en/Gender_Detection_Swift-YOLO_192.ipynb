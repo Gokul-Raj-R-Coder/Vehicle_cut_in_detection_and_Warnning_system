{
  "cells": [
    {
      "cell_type": "markdown",
      "metadata": {
        "id": "SpcQ_tl_UjcZ"
      },
      "source": [
        "<div align=\"center\">\n",
        "  <h1>Welcom to SSCMA for Google Colab Training Example 🔥 </h1>\n",
        "  <a href=\"https://sensecraftma.seeed.cc/\" target=\"_blank\"><img width=\"20%\" src=\"https://files.seeedstudio.com/sscma/docs/images/SSCMA-Hero.png\"></a>\n",
        "</div>"
      ]
    },
    {
      "cell_type": "markdown",
      "metadata": {
        "id": "GtsOu132Ujcd"
      },
      "source": [
        "# Gender Detection - Swift-YOLO\n",
        "\n",
        "[![Open in Colab](https://colab.research.google.com/assets/colab-badge.svg)](https://colab.research.google.com/github/seeed-studio/sscma-model-zoo/blob/main/notebooks/en/Gender_Detection_Swift-YOLO_192.ipynb)\n",
        "\n",
        "**Version:** 1.0.0\n",
        "\n",
        "**Category:** Object Detection\n",
        "\n",
        "**Algorithm:** [Swift-YOLO](configs/swift_yolo/swift_yolo_tiny_1xb16_300e_coco.py)\n",
        "\n",
        "**Dataset:** [Gender](https://universe.roboflow.com/aaa-61999/gender-ymxim/dataset/6)\n",
        "\n",
        "**Class:** `male`, `female`\n",
        "\n",
        "![Gender Detection](https://files.seeedstudio.com/sscma/static/gender_cls.png)\n",
        "\n",
        "The model is a Swift-YOLO model trained on the gender detection dataset.\n",
        "\n"
      ]
    },
    {
      "cell_type": "markdown",
      "metadata": {
        "id": "Lf_9ZSkCUjcd"
      },
      "source": [
        "## ⚙️Prerequisites\n",
        "### Setup SSCMA\n",
        "Clone the [repository](https://github.com/Seeed-Studio/ModelAssistant) and install the dependencies."
      ]
    },
    {
      "cell_type": "code",
      "execution_count": 1,
      "metadata": {
        "id": "PwUWUoE-Ujce",
        "outputId": "3eb4dcb2-b150-4e8f-e8ff-2f3f2bbb5d6b",
        "colab": {
          "base_uri": "https://localhost:8080/"
        }
      },
      "outputs": [
        {
          "output_type": "stream",
          "name": "stdout",
          "text": [
            "update-alternatives: using /usr/bin/python3.10 to provide /usr/bin/python3 (python3) in manual mode\n",
            "Cloning into 'ethos-u-vela'...\n",
            "remote: Counting objects: 80, done\u001b[K\n",
            "remote: Finding sources: 100% (10824/10824)\u001b[K\n",
            "remote: Total 10824 (delta 6916), reused 9357 (delta 6916)\u001b[K\n",
            "Receiving objects: 100% (10824/10824), 5.76 MiB | 4.85 MiB/s, done.\n",
            "Resolving deltas: 100% (6916/6916), done.\n",
            "/content/ethos-u-vela\n",
            "Traceback (most recent call last):\n",
            "  File \"/usr/local/bin/pip3\", line 4, in <module>\n",
            "    from pip._internal.cli.main import main\n",
            "ModuleNotFoundError: No module named 'pip'\n",
            "/content\n",
            "Cloning into 'ModelAssistant'...\n",
            "remote: Enumerating objects: 15743, done.\u001b[K\n",
            "remote: Counting objects: 100% (24/24), done.\u001b[K\n",
            "remote: Compressing objects: 100% (22/22), done.\u001b[K\n",
            "remote: Total 15743 (delta 2), reused 17 (delta 2), pack-reused 15719 (from 1)\u001b[K\n",
            "Receiving objects: 100% (15743/15743), 26.58 MiB | 16.42 MiB/s, done.\n",
            "Resolving deltas: 100% (9188/9188), done.\n",
            "/content/ModelAssistant\n",
            "Checking if CUDA available... \u001b[032mOK\u001b[m\n",
            "Traceback (most recent call last):\n",
            "  File \"/usr/local/bin/pip3\", line 4, in <module>\n",
            "    from pip._internal.cli.main import main\n",
            "ModuleNotFoundError: No module named 'pip'\n",
            "Installing base deps... Traceback (most recent call last):\n",
            "  File \"/usr/local/bin/pip3\", line 4, in <module>\n",
            "    from pip._internal.cli.main import main\n",
            "ModuleNotFoundError: No module named 'pip'\n",
            "Install base deps failed... \u001b[031mExiting\u001b[m\n"
          ]
        }
      ],
      "source": [
        "# Switch to python3.10\n",
        "!update-alternatives --set python3 /usr/bin/python3.10\n",
        "# Ethos-U-Vela need to be installed this way, or SSCMA does not work anymore...\n",
        "!git clone https://review.mlplatform.org/ml/ethos-u/ethos-u-vela.git\n",
        "%cd ethos-u-vela\n",
        "!pip install .\n",
        "%cd ..\n",
        "\n",
        "!git clone https://github.com/Seeed-Studio/ModelAssistant.git -b 2.0.0  #clone the repo\n",
        "%cd ModelAssistant\n",
        "!. ./scripts/setup_colab.sh"
      ]
    },
    {
      "cell_type": "markdown",
      "metadata": {
        "id": "lyvyfA2wUjcf"
      },
      "source": [
        "### Download the pretrain model weights file"
      ]
    },
    {
      "cell_type": "code",
      "execution_count": 2,
      "metadata": {
        "id": "HPF2GwEJUjcg",
        "outputId": "6b5fd07e-dd93-41c9-bed0-8d281f6776af",
        "colab": {
          "base_uri": "https://localhost:8080/"
        }
      },
      "outputs": [
        {
          "output_type": "stream",
          "name": "stdout",
          "text": [
            "--2025-09-30 11:31:23--  https://files.seeedstudio.com/sscma/model_zoo/detection/gender/gender_detection.pth\n",
            "Resolving files.seeedstudio.com (files.seeedstudio.com)... 108.157.254.103, 108.157.254.78, 108.157.254.101, ...\n",
            "Connecting to files.seeedstudio.com (files.seeedstudio.com)|108.157.254.103|:443... connected.\n",
            "HTTP request sent, awaiting response... 200 OK\n",
            "Length: 21709419 (21M) [application/octet-stream]\n",
            "Saving to: ‘Gender_Detection_Swift-YOLO_192/pretrain.pth’\n",
            "\n",
            "Gender_Detection_Sw 100%[===================>]  20.70M  10.8MB/s    in 1.9s    \n",
            "\n",
            "2025-09-30 11:31:25 (10.8 MB/s) - ‘Gender_Detection_Swift-YOLO_192/pretrain.pth’ saved [21709419/21709419]\n",
            "\n"
          ]
        }
      ],
      "source": [
        "%mkdir -p Gender_Detection_Swift-YOLO_192\n",
        "!wget -c https://files.seeedstudio.com/sscma/model_zoo/detection/gender/gender_detection.pth -O Gender_Detection_Swift-YOLO_192/pretrain.pth"
      ]
    },
    {
      "cell_type": "markdown",
      "metadata": {
        "id": "aRuSTjg4Ujcg"
      },
      "source": [
        "### Download the dataset"
      ]
    },
    {
      "cell_type": "code",
      "execution_count": 6,
      "metadata": {
        "id": "cGu7PFSCUjch",
        "outputId": "e02d3e15-3f5e-4378-f218-2aa88a72df95",
        "colab": {
          "base_uri": "https://localhost:8080/"
        }
      },
      "outputs": [
        {
          "output_type": "stream",
          "name": "stdout",
          "text": [
            "--2025-09-30 11:36:38--  https://universe.roboflow.com/ds/E7H3j002kN?key=XCi9zboD6w\n",
            "Resolving universe.roboflow.com (universe.roboflow.com)... 172.66.42.252, 172.66.41.4, 2606:4700:3108::ac42:2afc, ...\n",
            "Connecting to universe.roboflow.com (universe.roboflow.com)|172.66.42.252|:443... connected.\n",
            "HTTP request sent, awaiting response... 403 Forbidden\n",
            "2025-09-30 11:36:38 ERROR 403: Forbidden.\n",
            "\n",
            "[Gender_Detection_Swift-YOLO_192/dataset.zip]\n",
            "  End-of-central-directory signature not found.  Either this file is not\n",
            "  a zipfile, or it constitutes one disk of a multi-part archive.  In the\n",
            "  latter case the central directory and zipfile comment will be found on\n",
            "  the last disk(s) of this archive.\n",
            "unzip:  cannot find zipfile directory in one of Gender_Detection_Swift-YOLO_192/dataset.zip or\n",
            "        Gender_Detection_Swift-YOLO_192/dataset.zip.zip, and cannot find Gender_Detection_Swift-YOLO_192/dataset.zip.ZIP, period.\n"
          ]
        }
      ],
      "source": [
        "%mkdir -p Gender_Detection_Swift-YOLO_192/dataset\n",
        "!wget -c https://universe.roboflow.com/ds/E7H3j002kN?key=XCi9zboD6w -O Gender_Detection_Swift-YOLO_192/dataset.zip\n",
        "!unzip -q Gender_Detection_Swift-YOLO_192/dataset.zip -d Gender_Detection_Swift-YOLO_192/dataset"
      ]
    },
    {
      "cell_type": "code",
      "source": [
        "from google.colab import drive\n",
        "drive.mount('/content/drive')"
      ],
      "metadata": {
        "id": "7xBRCq9LZqUM",
        "outputId": "baa20d0b-7932-4d30-c034-853a290bef2d",
        "colab": {
          "base_uri": "https://localhost:8080/"
        }
      },
      "execution_count": 5,
      "outputs": [
        {
          "output_type": "stream",
          "name": "stdout",
          "text": [
            "Drive already mounted at /content/drive; to attempt to forcibly remount, call drive.mount(\"/content/drive\", force_remount=True).\n"
          ]
        }
      ]
    },
    {
      "cell_type": "markdown",
      "metadata": {
        "id": "DooME-xVUjch"
      },
      "source": [
        "## 🚀Train a model with SSCMA\n",
        "All the training parameters are in the `config.py` file, you can change the parameters to train your own model.\n",
        "\n",
        "Below are explanations of some common parameters. You can also refer to the [documentation](https://sensecraftma.seeed.cc/tutorials/config) for more details.\n",
        "- `data_root` - the datasets path.\n",
        "- `epochs`- the train epochs. **we use 10 epochs as an example**.\n",
        "- `batch_size` - the batch size.\n",
        "- `height` - the image height.\n",
        "- `width` - the image width.\n",
        "- `load_from` - the pretrained model path.\n",
        "- `num_classes` - the number of classes.\n",
        "\n",
        "You can overwrite the parameters in the `config.py` file by using the `--cfg-options` argument.\n",
        "```bash\n",
        "# Example\n",
        "sscma.train config.py --cfg-options data_root=./datasets/test_dataset epochs=10\n",
        "```"
      ]
    },
    {
      "cell_type": "code",
      "execution_count": null,
      "metadata": {
        "id": "PBdQRpj-Ujch"
      },
      "outputs": [],
      "source": [
        "!sscma.train configs/swift_yolo/swift_yolo_tiny_1xb16_300e_coco.py \\\n",
        "--cfg-options  \\\n",
        "    work_dir=Gender_Detection_Swift-YOLO_192 \\\n",
        "    num_classes=2 \\\n",
        "    epochs=10  \\\n",
        "    height=192 \\\n",
        "    width=192 \\\n",
        "    data_root=Gender_Detection_Swift-YOLO_192/dataset/ \\\n",
        "    load_from=Gender_Detection_Swift-YOLO_192/pretrain.pth"
      ]
    },
    {
      "cell_type": "markdown",
      "metadata": {
        "id": "BtsLcLJbUjci"
      },
      "source": [
        "## 📦Export the model\n",
        "After training, you can export the model to the format for deployment. SSCMA supports exporting to ONNX, and TensorFlow Lite at present.\n",
        "You can also refer to the [documentation](https://sensecraftma.seeed.cc/tutorials/export/overview) for more details.\n",
        "\n",
        "```bash\n",
        "python3 tools/export.py \\\n",
        "    \"<CONFIG_FILE_PATH>\" \\\n",
        "    \"<CHECKPOINT_FILE_PATH>\"\n",
        "```"
      ]
    },
    {
      "cell_type": "code",
      "execution_count": null,
      "metadata": {
        "id": "WqBDponPUjci"
      },
      "outputs": [],
      "source": [
        "import os\n",
        "with open('Gender_Detection_Swift-YOLO_192/last_checkpoint', 'r') as f:\n",
        "\tos.environ['CHECKPOINT_FILE_PATH'] = f.read()"
      ]
    },
    {
      "cell_type": "code",
      "execution_count": null,
      "metadata": {
        "id": "HFKjvNw3Ujci"
      },
      "outputs": [],
      "source": [
        "!sscma.export configs/swift_yolo/swift_yolo_tiny_1xb16_300e_coco.py $CHECKPOINT_FILE_PATH --cfg-options  \\\n",
        "    work_dir=Gender_Detection_Swift-YOLO_192 \\\n",
        "    num_classes=2 \\\n",
        "    epochs=10  \\\n",
        "    height=192 \\\n",
        "    width=192 \\\n",
        "    data_root=Gender_Detection_Swift-YOLO_192/dataset/ \\\n",
        "    load_from=Gender_Detection_Swift-YOLO_192/pretrain.pth"
      ]
    },
    {
      "cell_type": "markdown",
      "metadata": {
        "id": "nkh3QnOBUjcj"
      },
      "source": [
        "### 📝Evaluate the model\n",
        "After exporting the model, you can evaluate the model on the test dataset.\n",
        "You can also refer to the [documentation](https://sensecraftma.seeed.cc/tutorials/export/overview) for more details.\n",
        "\n",
        "\n",
        "```bash\n",
        "python3 tools/inference.py \\\n",
        "    \"<CONFIG_FILE_PATH>\" \\\n",
        "    \"<CHECKPOINT_FILE_PATH>\"\n",
        "```"
      ]
    },
    {
      "cell_type": "markdown",
      "metadata": {
        "id": "5x9unWn0Ujcj"
      },
      "source": [
        "### Evaluate the PyTorch model"
      ]
    },
    {
      "cell_type": "code",
      "execution_count": null,
      "metadata": {
        "id": "oIcn9QYoUjcj"
      },
      "outputs": [],
      "source": [
        "!sscma.inference configs/swift_yolo/swift_yolo_tiny_1xb16_300e_coco.py ${CHECKPOINT_FILE_PATH%.*}.pth \\\n",
        "--cfg-options  \\\n",
        "    work_dir=Gender_Detection_Swift-YOLO_192 \\\n",
        "    num_classes=2 \\\n",
        "    epochs=10  \\\n",
        "    height=192 \\\n",
        "    width=192 \\\n",
        "    data_root=Gender_Detection_Swift-YOLO_192/dataset/ \\\n",
        "    load_from=Gender_Detection_Swift-YOLO_192/pretrain.pth"
      ]
    },
    {
      "cell_type": "markdown",
      "metadata": {
        "id": "5kWpe40hUjcj"
      },
      "source": [
        "### Evaluate the ONNX model"
      ]
    },
    {
      "cell_type": "code",
      "execution_count": null,
      "metadata": {
        "id": "h821v_PlUjcj"
      },
      "outputs": [],
      "source": [
        "!sscma.inference configs/swift_yolo/swift_yolo_tiny_1xb16_300e_coco.py ${CHECKPOINT_FILE_PATH%.*}_float32.onnx \\\n",
        "--cfg-options  \\\n",
        "    work_dir=Gender_Detection_Swift-YOLO_192 \\\n",
        "    num_classes=2 \\\n",
        "    epochs=10  \\\n",
        "    height=192 \\\n",
        "    width=192 \\\n",
        "    data_root=Gender_Detection_Swift-YOLO_192/dataset/ \\\n",
        "    load_from=Gender_Detection_Swift-YOLO_192/pretrain.pth"
      ]
    },
    {
      "cell_type": "markdown",
      "metadata": {
        "id": "ufLYqj0SUjck"
      },
      "source": [
        "### Evaluate the TFLite FLOAT32 model"
      ]
    },
    {
      "cell_type": "code",
      "execution_count": null,
      "metadata": {
        "id": "jS0D_ZhvUjck"
      },
      "outputs": [],
      "source": [
        "!sscma.inference configs/swift_yolo/swift_yolo_tiny_1xb16_300e_coco.py ${CHECKPOINT_FILE_PATH%.*}_float32.tflite \\\n",
        "--cfg-options  \\\n",
        "    work_dir=Gender_Detection_Swift-YOLO_192 \\\n",
        "    num_classes=2 \\\n",
        "    epochs=10  \\\n",
        "    height=192 \\\n",
        "    width=192 \\\n",
        "    data_root=Gender_Detection_Swift-YOLO_192/dataset/ \\\n",
        "    load_from=Gender_Detection_Swift-YOLO_192/pretrain.pth"
      ]
    },
    {
      "cell_type": "markdown",
      "metadata": {
        "id": "HlUcGrozUjck"
      },
      "source": [
        "### Evaluate the TFLite INT8 model"
      ]
    },
    {
      "cell_type": "code",
      "execution_count": null,
      "metadata": {
        "id": "PyIZ-PcyUjck"
      },
      "outputs": [],
      "source": [
        "!sscma.inference configs/swift_yolo/swift_yolo_tiny_1xb16_300e_coco.py ${CHECKPOINT_FILE_PATH%.*}_int8.tflite \\\n",
        "--cfg-options  \\\n",
        "    work_dir=Gender_Detection_Swift-YOLO_192 \\\n",
        "    num_classes=2 \\\n",
        "    epochs=10  \\\n",
        "    height=192 \\\n",
        "    width=192 \\\n",
        "    data_root=Gender_Detection_Swift-YOLO_192/dataset/ \\\n",
        "    load_from=Gender_Detection_Swift-YOLO_192/pretrain.pth"
      ]
    },
    {
      "cell_type": "markdown",
      "metadata": {
        "id": "K16-M-0pUjck"
      },
      "source": [
        "## 🤖 Deploy the model\n",
        "After model training, evaluation and export, you can deploy the model to your device. You can refer to [Documentation](https://sensecraftma.seeed.cc/deploy/overview) for more details."
      ]
    },
    {
      "cell_type": "code",
      "execution_count": null,
      "metadata": {
        "id": "6LXZq5b2Ujck"
      },
      "outputs": [],
      "source": [
        "%ls -lh Gender_Detection_Swift-YOLO_192/"
      ]
    },
    {
      "cell_type": "markdown",
      "metadata": {
        "id": "n76iiE2PUjcl"
      },
      "source": [
        "### Thanks for Trying Out SSCMA 🎉\n",
        "\n",
        "Congratulations, you have completed this tutorial. If you are interested in more application scenarios or our projects, please feel free to give [SSCMA](https://github.com/Seeed-Studio/ModelAssistant) a star ✨ on GitHub.\n",
        "\n",
        "If you have any questions about this tutorial, please also feel free to [submit an issue](https://github.com/Seeed-Studio/ModelAssistant/issues)."
      ]
    }
  ],
  "metadata": {
    "kernelspec": {
      "display_name": "Python 3",
      "name": "python3"
    },
    "language_info": {
      "codemirror_mode": {
        "name": "ipython",
        "version": 3
      },
      "file_extension": ".py",
      "mimetype": "text/x-python",
      "name": "python",
      "nbconvert_exporter": "python",
      "pygments_lexer": "ipython3",
      "version": "3.8.17"
    },
    "colab": {
      "provenance": [],
      "gpuType": "T4"
    },
    "accelerator": "GPU"
  },
  "nbformat": 4,
  "nbformat_minor": 0
}